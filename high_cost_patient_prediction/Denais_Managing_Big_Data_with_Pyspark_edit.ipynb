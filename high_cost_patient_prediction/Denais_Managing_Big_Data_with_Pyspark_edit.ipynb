{
 "cells": [
  {
   "cell_type": "markdown",
   "metadata": {},
   "source": [
    "# Managing Big Data with Pyspark + Machine Learning Model Development"
   ]
  },
  {
   "cell_type": "code",
   "execution_count": 1,
   "metadata": {},
   "outputs": [
    {
     "name": "stderr",
     "output_type": "stream",
     "text": [
      "Setting default log level to \"WARN\".\n",
      "To adjust logging level use sc.setLogLevel(newLevel). For SparkR, use setLogLevel(newLevel).\n",
      "25/08/07 13:16:41 WARN NativeCodeLoader: Unable to load native-hadoop library for your platform... using builtin-java classes where applicable\n",
      "25/08/07 13:16:43 WARN Utils: Service 'SparkUI' could not bind on port 4040. Attempting port 4041.\n",
      "25/08/07 13:16:43 WARN Utils: Service 'SparkUI' could not bind on port 4041. Attempting port 4042.\n"
     ]
    }
   ],
   "source": [
    "import pyspark\n",
    "from pyspark.sql import SparkSession\n",
    "\n",
    "spark = SparkSession.builder.getOrCreate()\n",
    "sc = spark.sparkContext.setLogLevel('ERROR')"
   ]
  },
  {
   "cell_type": "markdown",
   "metadata": {},
   "source": [
    "# High-Cost Patient Prediction Model"
   ]
  },
  {
   "cell_type": "markdown",
   "metadata": {},
   "source": [
    "For this project, I combined data from multiple large datasets and calculated the total count of encounters, devices, immunzations, and imaging studies (including duplicates) for each patient as well as the total unique number of conditions and medications (excluding duplicates) for each patient. I also acquired all numeric data from the observation data set (labs, vitals, quality of life metrics, biometrics, etc) and calcualted the average for each patient. Missing observation data were imputed with an average value. I then combined each of these dataframes with the patient dataset to include demographic information in the final machine learning model.\n",
    "\n",
    "For machine learning model development, I first prepared the data by indexing and encoding string values, removing unnecessary columns, and using vector assembler to combine all features into a single column. \n",
    "\n",
    "I developed two ML models (Random Forest and Gradient Boosted Trees) as well as a logistic regression model for baseline comparison. To evaluate the models, I used AUROC."
   ]
  },
  {
   "cell_type": "code",
   "execution_count": 2,
   "metadata": {},
   "outputs": [
    {
     "name": "stderr",
     "output_type": "stream",
     "text": [
      "                                                                                \r"
     ]
    }
   ],
   "source": [
    "#load patient data\n",
    "patient_data = spark.read.csv('./patients.csv', header = True, sep = ',', inferSchema= True)"
   ]
  },
  {
   "cell_type": "markdown",
   "metadata": {},
   "source": [
    "## Get counts for all pertient data sets"
   ]
  },
  {
   "cell_type": "markdown",
   "metadata": {},
   "source": [
    "### Conditions"
   ]
  },
  {
   "cell_type": "code",
   "execution_count": 3,
   "metadata": {},
   "outputs": [
    {
     "name": "stderr",
     "output_type": "stream",
     "text": [
      "[Stage 6:>                                                          (0 + 4) / 4]\r"
     ]
    },
    {
     "name": "stdout",
     "output_type": "stream",
     "text": [
      "+--------------------+----------------+\n",
      "|             PATIENT|conditions_count|\n",
      "+--------------------+----------------+\n",
      "|dc1e507b-d2ba-e38...|              49|\n",
      "|99481683-7c2f-9cc...|              47|\n",
      "|bcb2fa11-f14a-3e3...|              46|\n",
      "|b3915e7a-48f4-a4e...|              46|\n",
      "|073bf64a-a95e-48d...|              46|\n",
      "|45552201-c424-fbe...|              46|\n",
      "|248174ec-9941-e47...|              43|\n",
      "|fac9f918-e773-99c...|              43|\n",
      "|514e7264-f7a8-2a9...|              42|\n",
      "|e37f212c-a1fe-1e8...|              42|\n",
      "+--------------------+----------------+\n",
      "only showing top 10 rows\n",
      "\n"
     ]
    },
    {
     "name": "stderr",
     "output_type": "stream",
     "text": [
      "                                                                                \r"
     ]
    }
   ],
   "source": [
    "#load conditions data\n",
    "conditions_data = spark.read.csv('./conditions.csv', header = True, sep=',', inferSchema=True)\n",
    "\n",
    "#count unique conditions per patient (to acquire the total number of unique conditions for each patient)\n",
    "from pyspark.sql.functions import countDistinct\n",
    "\n",
    "conditions_count = conditions_data.groupby('PATIENT').agg(countDistinct('CODE')).withColumnRenamed('count(DISTINCT CODE)', 'conditions_count')\n",
    "\n",
    "conditions_count.sort('conditions_count',ascending = False).show(10)"
   ]
  },
  {
   "cell_type": "markdown",
   "metadata": {},
   "source": [
    "### Devices"
   ]
  },
  {
   "cell_type": "code",
   "execution_count": 4,
   "metadata": {},
   "outputs": [
    {
     "name": "stderr",
     "output_type": "stream",
     "text": [
      "[Stage 12:>                                                         (0 + 2) / 2]\r"
     ]
    },
    {
     "name": "stdout",
     "output_type": "stream",
     "text": [
      "+--------------------+-------------+\n",
      "|             PATIENT|devices_count|\n",
      "+--------------------+-------------+\n",
      "|7712a5d1-7327-f5c...|           15|\n",
      "|013be217-6dfa-609...|           15|\n",
      "|8cc200f2-2bb9-837...|           15|\n",
      "|69d1c09c-e281-4bd...|           14|\n",
      "|0087b7cb-ea89-9b9...|           14|\n",
      "|62038bac-c261-5f9...|           14|\n",
      "|5902f943-6620-6ec...|           14|\n",
      "|e6867f29-3e40-6ba...|           14|\n",
      "|0295a4ef-8c15-8e7...|           14|\n",
      "|f4424612-e076-224...|           14|\n",
      "+--------------------+-------------+\n",
      "only showing top 10 rows\n",
      "\n"
     ]
    },
    {
     "name": "stderr",
     "output_type": "stream",
     "text": [
      "                                                                                \r"
     ]
    }
   ],
   "source": [
    "#load devices data\n",
    "devices_data = spark.read.csv('./devices.csv', header = True, sep = ',', inferSchema=True)\n",
    "\n",
    "#count number of devices per patient (not unique since we want to count each implantation)\n",
    "devices_count = devices_data.groupby('PATIENT').count().withColumnRenamed('count', 'devices_count')\n",
    "\n",
    "devices_count.sort('devices_count', ascending = False).show(10)"
   ]
  },
  {
   "cell_type": "markdown",
   "metadata": {},
   "source": [
    "### Encounters"
   ]
  },
  {
   "cell_type": "code",
   "execution_count": 5,
   "metadata": {},
   "outputs": [
    {
     "name": "stderr",
     "output_type": "stream",
     "text": [
      "[Stage 19:>                                                         (0 + 4) / 4]\r"
     ]
    },
    {
     "name": "stdout",
     "output_type": "stream",
     "text": [
      "+--------------------+--------------+---------------+\n",
      "|             PATIENT|EncounterClass|encounter_count|\n",
      "+--------------------+--------------+---------------+\n",
      "|4bcfc7fa-94c5-f87...|     emergency|              2|\n",
      "|94e7aa8e-1804-d0e...|    outpatient|              3|\n",
      "|55ae0253-231a-bac...|      wellness|              2|\n",
      "|4386c312-eb31-f7f...|    ambulatory|              5|\n",
      "|ebe571c2-e293-327...|     inpatient|              1|\n",
      "+--------------------+--------------+---------------+\n",
      "only showing top 5 rows\n",
      "\n"
     ]
    },
    {
     "name": "stderr",
     "output_type": "stream",
     "text": [
      "                                                                                \r"
     ]
    }
   ],
   "source": [
    "#load encounter data\n",
    "encounter_data = spark.read.csv('./encounters.csv', header=True, sep=',', inferSchema=True)\n",
    "\n",
    "#count total encounters by encounter type per patient (using count distinct since encounter class is a separate column)\n",
    "from pyspark.sql.functions import sum, col\n",
    "encounter_count = encounter_data.groupby('PATIENT', 'EncounterClass').agg(countDistinct('Code')).withColumnRenamed('count(DISTINCT CODE)', 'encounter_count')\n",
    "\n",
    "encounter_count.show(5)"
   ]
  },
  {
   "cell_type": "code",
   "execution_count": 6,
   "metadata": {},
   "outputs": [
    {
     "name": "stderr",
     "output_type": "stream",
     "text": [
      "                                                                                \r"
     ]
    }
   ],
   "source": [
    "#pivot table into wide data format\n",
    "encounter_count_pivot = (encounter_count.groupby('PATIENT').pivot('EncounterClass').sum('encounter_count'))"
   ]
  },
  {
   "cell_type": "code",
   "execution_count": 7,
   "metadata": {},
   "outputs": [],
   "source": [
    "#fill NA values with 0\n",
    "encounter_count_pivot = encounter_count_pivot.fillna(0)\n",
    "\n",
    "#rename columns using dictionary / for loop strategy\n",
    "col_name_list = {'ambulatory':'ambulatory_visits', \n",
    "                 'emergency':'emergency_visits', \n",
    "                 'inpatient':'inpatient_visits', \n",
    "                 'outpatient':'outpatient_visits', \n",
    "                 'urgentcare':'urgentcare_visits',\n",
    "                 'wellness':'wellness_visits'}\n",
    "for old_col,new_col in col_name_list.items():\n",
    "    encounter_count_pivot = encounter_count_pivot.withColumnRenamed(old_col,new_col)\n",
    "\n",
    "#calculate total encounters and save as new column\n",
    "encounter_count_pivot = encounter_count_pivot.withColumn('total_visits', \n",
    "                                                         col('ambulatory_visits')+\n",
    "                                                         col('emergency_visits')+\n",
    "                                                         col('inpatient_visits')+\n",
    "                                                         col('outpatient_visits')+\n",
    "                                                         col('urgentcare_visits')+\n",
    "                                                         col('wellness_visits')\n",
    "                                                         )\n"
   ]
  },
  {
   "cell_type": "markdown",
   "metadata": {},
   "source": [
    "### Imaging"
   ]
  },
  {
   "cell_type": "code",
   "execution_count": 8,
   "metadata": {},
   "outputs": [
    {
     "name": "stderr",
     "output_type": "stream",
     "text": [
      "[Stage 35:==============>                                           (1 + 3) / 4]\r"
     ]
    },
    {
     "name": "stdout",
     "output_type": "stream",
     "text": [
      "+--------------------+-------------+\n",
      "|             PATIENT|imaging_count|\n",
      "+--------------------+-------------+\n",
      "|215958a4-2d73-bfb...|           91|\n",
      "|f2ce6d94-9e60-54d...|           89|\n",
      "|9529ea99-eb20-155...|           88|\n",
      "|03969c2d-320f-06f...|           88|\n",
      "|16d481aa-6e12-462...|           88|\n",
      "|0672f778-ef2a-ab6...|           87|\n",
      "|e626dc19-8754-351...|           86|\n",
      "|c1b5369a-8dc3-50f...|           86|\n",
      "|d49886a1-261f-33a...|           86|\n",
      "|65a172bb-3fd5-246...|           86|\n",
      "+--------------------+-------------+\n",
      "only showing top 10 rows\n",
      "\n"
     ]
    },
    {
     "name": "stderr",
     "output_type": "stream",
     "text": [
      "                                                                                \r"
     ]
    }
   ],
   "source": [
    "#load imaging data\n",
    "imaging_data = spark.read.csv('./imaging_studies.csv', header = True, sep = ',', inferSchema=True)\n",
    "\n",
    "#count total number of imaging studies per patient (using countdistinct to account for duplicate image instances but not duplicate image types)\n",
    "imaging_count = imaging_data.groupby('PATIENT').agg(countDistinct('Id')).withColumnRenamed('count(DISTINCT Id)', 'imaging_count')\n",
    "\n",
    "imaging_count.sort('imaging_count', ascending = False).show(10)"
   ]
  },
  {
   "cell_type": "markdown",
   "metadata": {},
   "source": [
    "### Immunizations"
   ]
  },
  {
   "cell_type": "code",
   "execution_count": 9,
   "metadata": {},
   "outputs": [
    {
     "name": "stderr",
     "output_type": "stream",
     "text": [
      "[Stage 41:==============>                                           (1 + 3) / 4]\r"
     ]
    },
    {
     "name": "stdout",
     "output_type": "stream",
     "text": [
      "+--------------------+------------------+\n",
      "|             PATIENT|immunization_count|\n",
      "+--------------------+------------------+\n",
      "|9b7bd49f-c772-924...|                16|\n",
      "|a891cf76-fa32-79f...|                16|\n",
      "|c68edb6e-f71e-ab3...|                16|\n",
      "|0229ae7d-eb71-3f0...|                15|\n",
      "|73e5b7ad-bfb2-d36...|                15|\n",
      "|98f918a3-807b-0bc...|                15|\n",
      "|acdc063c-2f62-df6...|                15|\n",
      "|66370dcd-dc76-d3d...|                15|\n",
      "|bc6f58f6-fb53-205...|                15|\n",
      "|c82eaebf-c933-3c7...|                15|\n",
      "+--------------------+------------------+\n",
      "only showing top 10 rows\n",
      "\n"
     ]
    },
    {
     "name": "stderr",
     "output_type": "stream",
     "text": [
      "                                                                                \r"
     ]
    }
   ],
   "source": [
    "#load immunization data\n",
    "vax_data = spark.read.csv('./immunizations.csv', header = True, sep = ',', inferSchema=True)\n",
    "\n",
    "#count total vaccinations a patient recieved over lifetime (including duplicates)\n",
    "vax_count = vax_data.groupBy('PATIENT').count().withColumnRenamed('count', 'immunization_count')\n",
    "\n",
    "vax_count.sort('immunization_count',ascending = False).show(10)"
   ]
  },
  {
   "cell_type": "markdown",
   "metadata": {},
   "source": [
    "### Medications"
   ]
  },
  {
   "cell_type": "code",
   "execution_count": 10,
   "metadata": {},
   "outputs": [
    {
     "name": "stderr",
     "output_type": "stream",
     "text": [
      "[Stage 48:==============>                                           (1 + 3) / 4]\r"
     ]
    },
    {
     "name": "stdout",
     "output_type": "stream",
     "text": [
      "+--------------------+---------+\n",
      "|             PATIENT|med_count|\n",
      "+--------------------+---------+\n",
      "|790611bf-1c4d-ae7...|       34|\n",
      "|2596ca08-0e19-c70...|       31|\n",
      "|5c288719-42a2-06f...|       31|\n",
      "|4f291f32-e29e-cf8...|       30|\n",
      "|e6867f29-3e40-6ba...|       29|\n",
      "|17ce562a-87e9-eed...|       29|\n",
      "|f6a038d4-6e84-7a3...|       29|\n",
      "|9846dcb5-ebdf-539...|       28|\n",
      "|dc1e507b-d2ba-e38...|       28|\n",
      "|b2a77f6c-04cc-f3e...|       28|\n",
      "+--------------------+---------+\n",
      "only showing top 10 rows\n",
      "\n"
     ]
    },
    {
     "name": "stderr",
     "output_type": "stream",
     "text": [
      "                                                                                \r"
     ]
    }
   ],
   "source": [
    "#load med data\n",
    "med_data = spark.read.csv('./medications.csv', header = True, sep =',', inferSchema=True)\n",
    "\n",
    "#count unique meds per patient (excluding duplicates to capture total number of unique medications prescribed to a patient over the data collection time period, not the total number of medications filled)\n",
    "med_count = med_data.groupBy('PATIENT').agg(countDistinct('CODE')).withColumnRenamed('count(DISTINCT CODE)', 'med_count')\n",
    "\n",
    "med_count.sort('med_count',ascending = False).show(10)"
   ]
  },
  {
   "cell_type": "markdown",
   "metadata": {},
   "source": [
    "### Observations (Labs/Vitals/Biometrics/Assessments)"
   ]
  },
  {
   "cell_type": "code",
   "execution_count": 11,
   "metadata": {},
   "outputs": [
    {
     "name": "stderr",
     "output_type": "stream",
     "text": [
      "[Stage 56:>                                                         (0 + 1) / 1]\r"
     ]
    },
    {
     "name": "stdout",
     "output_type": "stream",
     "text": [
      "+--------------------+--------------------+------------------+\n",
      "|             PATIENT|         DESCRIPTION|        avg(VALUE)|\n",
      "+--------------------+--------------------+------------------+\n",
      "|f1639046-ecb1-b40...|          Creatinine|              0.86|\n",
      "|bc7d25d5-4bf2-2fa...|Aspartate aminotr...|18.756521739130434|\n",
      "|56211549-b840-4b4...|    Body temperature|39.418749999999996|\n",
      "|9e496462-1cb4-078...|Parainfluenza vir...|              NULL|\n",
      "|a17ef1cb-e502-f2c...|              Sodium|            140.87|\n",
      "|b2426284-baa2-9d0...|Iron saturation [...|29.924999999999997|\n",
      "|00665eb3-6f63-663...|Alkaline phosphat...| 69.52222222222223|\n",
      "|00665eb3-6f63-663...|Lactate dehydroge...|251.35454545454547|\n",
      "|4025fce8-074c-2a9...|High Density Lipo...| 62.19230769230769|\n",
      "|7ddaf492-632f-fad...|Systolic Blood Pr...|             122.0|\n",
      "+--------------------+--------------------+------------------+\n",
      "only showing top 10 rows\n",
      "\n"
     ]
    },
    {
     "name": "stderr",
     "output_type": "stream",
     "text": [
      "                                                                                \r"
     ]
    }
   ],
   "source": [
    "#load observations data\n",
    "obs_data = spark.read.csv('./observations.csv', header = True, sep = ',', inferSchema = True)\n",
    "\n",
    "#claculate average for each observation per patient (will get null values for strings and remove later since we are only interested in numeric data)\n",
    "from pyspark.sql.functions import avg\n",
    "\n",
    "obs_values = obs_data.groupby('PATIENT', 'DESCRIPTION').agg(avg('VALUE'))\n",
    "\n",
    "obs_values.show(10)"
   ]
  },
  {
   "cell_type": "code",
   "execution_count": 12,
   "metadata": {},
   "outputs": [
    {
     "name": "stderr",
     "output_type": "stream",
     "text": [
      "                                                                                \r"
     ]
    },
    {
     "data": {
      "text/plain": [
       "[Row(DESCRIPTION='Hematocrit'),\n",
       " Row(DESCRIPTION='Symptoms score [HOOS]'),\n",
       " Row(DESCRIPTION='Platelet mean volume [Entitic volume] in Blood by Automated count'),\n",
       " Row(DESCRIPTION='Regional lymph nodes.clinical [Class] Cancer'),\n",
       " Row(DESCRIPTION='Activities of daily living score [KOOS]'),\n",
       " Row(DESCRIPTION='Tobacco smoking status NHIS'),\n",
       " Row(DESCRIPTION='Carbon dioxide [Partial pressure] in Arterial blood'),\n",
       " Row(DESCRIPTION='Symptoms score [KOOS]'),\n",
       " Row(DESCRIPTION='DXA [T-score] Bone density'),\n",
       " Row(DESCRIPTION='Sport-recreation score [HOOS]'),\n",
       " Row(DESCRIPTION='NT-proBNP'),\n",
       " Row(DESCRIPTION='RBC Auto (Bld) [#/Vol]'),\n",
       " Row(DESCRIPTION='Globulin [Mass/volume] in Serum by calculation'),\n",
       " Row(DESCRIPTION='Sodium'),\n",
       " Row(DESCRIPTION='Calcium [Mass/volume] in Serum or Plasma'),\n",
       " Row(DESCRIPTION='Polyp size greatest dimension by CAP cancer protocols'),\n",
       " Row(DESCRIPTION='RDW - Erythrocyte distribution width Auto (RBC) [Entitic vol]'),\n",
       " Row(DESCRIPTION='pH of Urine by Test strip'),\n",
       " Row(DESCRIPTION='Protein [Mass/volume] in Urine by Test strip'),\n",
       " Row(DESCRIPTION='Body Height'),\n",
       " Row(DESCRIPTION='Distant metastases.clinical [Class] Cancer'),\n",
       " Row(DESCRIPTION='Percentage area affected by eczema Trunk'),\n",
       " Row(DESCRIPTION='Calcium'),\n",
       " Row(DESCRIPTION='Hematocrit [Volume Fraction] of Blood'),\n",
       " Row(DESCRIPTION='Anion Gap'),\n",
       " Row(DESCRIPTION='Percentage area affected by eczema Head and Neck'),\n",
       " Row(DESCRIPTION='Triglycerides'),\n",
       " Row(DESCRIPTION='Albumin [Mass/volume] in Serum or Plasma'),\n",
       " Row(DESCRIPTION='Leukocyte esterase [Presence] in Urine by Test strip'),\n",
       " Row(DESCRIPTION='US Guidance for biopsy of Prostate'),\n",
       " Row(DESCRIPTION='Ketones [Mass/volume] in Urine by Test strip'),\n",
       " Row(DESCRIPTION='Neutrophils [#/volume] in Blood by Automated count'),\n",
       " Row(DESCRIPTION='Hemoglobin'),\n",
       " Row(DESCRIPTION='HIV status'),\n",
       " Row(DESCRIPTION='Estrogen+Progesterone receptor Ag [Presence] in Tissue by Immune stain'),\n",
       " Row(DESCRIPTION='Tumor marker Cancer'),\n",
       " Row(DESCRIPTION='MCHC [Mass/volume] by Automated count'),\n",
       " Row(DESCRIPTION='Egg white IgE Ab in Serum'),\n",
       " Row(DESCRIPTION='Fibrin D-dimer FEU [Mass/volume] in Platelet poor plasma'),\n",
       " Row(DESCRIPTION='Albumin'),\n",
       " Row(DESCRIPTION='There is a persistent desire or unsuccessful efforts to cut down or control opioid use'),\n",
       " Row(DESCRIPTION='Influenza virus B RNA [Presence] in Respiratory specimen by NAA with probe detection'),\n",
       " Row(DESCRIPTION='Site of distant metastasis in Breast tumor'),\n",
       " Row(DESCRIPTION='Latex IgE Ab in Serum'),\n",
       " Row(DESCRIPTION='Alkaline phosphatase [Enzymatic activity/volume] in Serum or Plasma'),\n",
       " Row(DESCRIPTION='Response to cancer treatment'),\n",
       " Row(DESCRIPTION='Honey bee IgE Ab in Serum'),\n",
       " Row(DESCRIPTION='Eosinophils/100 leukocytes in Blood by Automated count'),\n",
       " Row(DESCRIPTION='Weight difference [Mass difference] --pre dialysis - post dialysis'),\n",
       " Row(DESCRIPTION='Platelet Count'),\n",
       " Row(DESCRIPTION='Heart rate'),\n",
       " Row(DESCRIPTION='Continued use despite knowledge of having a persistent or recurrent physical or psychological problem that is likely to have been caused or exacerbated by opioids.'),\n",
       " Row(DESCRIPTION='Estimated Glomerular Filtration Rate'),\n",
       " Row(DESCRIPTION='Monocytes/100 leukocytes in Blood by Automated count'),\n",
       " Row(DESCRIPTION='Bilirubin.total [Presence] in Urine by Test strip'),\n",
       " Row(DESCRIPTION='Thyroxine (T4) free [Mass/volume] in Serum or Plasma'),\n",
       " Row(DESCRIPTION='Left ventricular Ejection fraction'),\n",
       " Row(DESCRIPTION='Potassium [Moles/volume] in Serum or Plasma'),\n",
       " Row(DESCRIPTION='Quality of life score [KOOS]'),\n",
       " Row(DESCRIPTION='Shrimp IgE Ab in Serum'),\n",
       " Row(DESCRIPTION='Troponin I.cardiac [Mass/volume] in Serum or Plasma by High sensitivity method'),\n",
       " Row(DESCRIPTION='Ketones [Presence] in Urine by Test strip'),\n",
       " Row(DESCRIPTION='What number best describes your pain on average in the past week?'),\n",
       " Row(DESCRIPTION='SARS-CoV-2 RNA Pnl Resp NAA+probe'),\n",
       " Row(DESCRIPTION='AST (Elevated)'),\n",
       " Row(DESCRIPTION='Head Occipital-frontal circumference'),\n",
       " Row(DESCRIPTION='Nitrite [Presence] in Urine by Test strip'),\n",
       " Row(DESCRIPTION='Leukocytes [#/volume] in Blood by Automated count'),\n",
       " Row(DESCRIPTION='Glomerular filtration rate/1.73 sq M.predicted'),\n",
       " Row(DESCRIPTION='MCH [Entitic mass] by Automated count'),\n",
       " Row(DESCRIPTION='Body Weight'),\n",
       " Row(DESCRIPTION='Cause of Death [US Standard Certificate of Death]'),\n",
       " Row(DESCRIPTION='ALT (Elevated)'),\n",
       " Row(DESCRIPTION='Diastolic Blood Pressure'),\n",
       " Row(DESCRIPTION='DALY'),\n",
       " Row(DESCRIPTION='Estrogen receptor Ag [Presence] in Breast cancer specimen by Immune stain'),\n",
       " Row(DESCRIPTION='American house dust mite IgE Ab in Serum'),\n",
       " Row(DESCRIPTION='Mean blood pressure'),\n",
       " Row(DESCRIPTION='Lymphocytes/100 leukocytes in Blood by Automated count'),\n",
       " Row(DESCRIPTION='Carbon Dioxide'),\n",
       " Row(DESCRIPTION='WBC Auto (Bld) [#/Vol]'),\n",
       " Row(DESCRIPTION='Parainfluenza virus 2 RNA [Presence] in Respiratory specimen by NAA with probe detection'),\n",
       " Row(DESCRIPTION='Iron saturation [Mass Fraction] in Serum or Plasma'),\n",
       " Row(DESCRIPTION='Cat dander IgE Ab in Serum'),\n",
       " Row(DESCRIPTION='Systolic Blood Pressure'),\n",
       " Row(DESCRIPTION='Urea nitrogen [Mass/volume] in Serum or Plasma'),\n",
       " Row(DESCRIPTION='Adenovirus A+B+C+D+E DNA [Presence] in Respiratory specimen by NAA with probe detection'),\n",
       " Row(DESCRIPTION='Pain score [HOOS]'),\n",
       " Row(DESCRIPTION='Eosinophils [#/volume] in Blood by Automated count'),\n",
       " Row(DESCRIPTION='Neutrophils/100 leukocytes in Blood by Automated count'),\n",
       " Row(DESCRIPTION='A great deal of time is spent in activities necessary to obtain the opioid  use the opioid  or recover from its effects'),\n",
       " Row(DESCRIPTION='HER2 [Presence] in Breast cancer specimen by Immune stain'),\n",
       " Row(DESCRIPTION='Lymph nodes with isolated tumor cells [#] in Cancer specimen by Light microscopy'),\n",
       " Row(DESCRIPTION='Walnut IgE Ab in Serum'),\n",
       " Row(DESCRIPTION='MCV [Entitic volume] by Automated count'),\n",
       " Row(DESCRIPTION='Influenza virus A RNA [Presence] in Respiratory specimen by NAA with probe detection'),\n",
       " Row(DESCRIPTION='Erythrocytes [#/volume] in Blood by Automated count'),\n",
       " Row(DESCRIPTION='FEV1/FVC'),\n",
       " Row(DESCRIPTION='Body Mass Index'),\n",
       " Row(DESCRIPTION='INR in Platelet poor plasma by Coagulation assay'),\n",
       " Row(DESCRIPTION='Iron binding capacity [Mass/volume] in Serum or Plasma'),\n",
       " Row(DESCRIPTION='Physical findings of Prostate'),\n",
       " Row(DESCRIPTION='Chloride [Moles/volume] in Serum or Plasma'),\n",
       " Row(DESCRIPTION='Continued opioid use despite having persistent or recurrent social or interpersonal problems caused or exacerbated by the effects of opioids'),\n",
       " Row(DESCRIPTION='Pain severity - Reported'),\n",
       " Row(DESCRIPTION='Total Bilirubin (Elevated)'),\n",
       " Row(DESCRIPTION='Globulin'),\n",
       " Row(DESCRIPTION='QALY'),\n",
       " Row(DESCRIPTION='Alkaline Phosphatase'),\n",
       " Row(DESCRIPTION='Are you covered by health insurance or some other kind of health care plan [PhenX]'),\n",
       " Row(DESCRIPTION='RBC Distribution Width'),\n",
       " Row(DESCRIPTION='Gram positive blood culture panel by Probe in Positive blood culture'),\n",
       " Row(DESCRIPTION='Low Density Lipoprotein Cholesterol'),\n",
       " Row(DESCRIPTION='Red Blood Cell'),\n",
       " Row(DESCRIPTION='Sodium [Moles/volume] in Serum or Plasma'),\n",
       " Row(DESCRIPTION='Respiratory syncytial virus RNA [Presence] in Respiratory specimen by NAA with probe detection'),\n",
       " Row(DESCRIPTION='Bicarbonate [Moles/volume] in Arterial blood'),\n",
       " Row(DESCRIPTION='QOLS'),\n",
       " Row(DESCRIPTION='Glucose [Mass/volume] in Serum or Plasma'),\n",
       " Row(DESCRIPTION='Carbon dioxide  total [Moles/volume] in Serum or Plasma'),\n",
       " Row(DESCRIPTION='Lactate [Mass/volume] in Blood'),\n",
       " Row(DESCRIPTION='Protein [Presence] in Urine by Test strip'),\n",
       " Row(DESCRIPTION='Platelets [#/volume] in Blood by Automated count'),\n",
       " Row(DESCRIPTION='Parainfluenza virus 3 RNA [Presence] in Respiratory specimen by NAA with probe detection'),\n",
       " Row(DESCRIPTION='Size.maximum dimension in Tumor'),\n",
       " Row(DESCRIPTION='Wheat IgE Ab in Serum'),\n",
       " Row(DESCRIPTION='Creatinine [Mass/volume] in Serum or Plasma'),\n",
       " Row(DESCRIPTION='Aspartate aminotransferase [Enzymatic activity/volume] in Serum or Plasma'),\n",
       " Row(DESCRIPTION='Iron [Mass/volume] in Serum or Plasma'),\n",
       " Row(DESCRIPTION='Monocytes [#/volume] in Blood by Automated count'),\n",
       " Row(DESCRIPTION='Important social  occupational  or recreational activities are given up or reduced because of opioid use'),\n",
       " Row(DESCRIPTION='Weight-for-length Per age and sex'),\n",
       " Row(DESCRIPTION='Prothrombin time (PT)'),\n",
       " Row(DESCRIPTION='Symptom'),\n",
       " Row(DESCRIPTION='Erythrocyte distribution width [Entitic volume] by Automated count'),\n",
       " Row(DESCRIPTION='Hemoglobin A1c/Hemoglobin.total in Blood'),\n",
       " Row(DESCRIPTION='Drugs of abuse 5 panel - Urine by Screen method'),\n",
       " Row(DESCRIPTION='Sexual orientation'),\n",
       " Row(DESCRIPTION='History of Hospitalizations+Outpatient visits'),\n",
       " Row(DESCRIPTION='Soybean IgE Ab in Serum'),\n",
       " Row(DESCRIPTION='Respiratory rate'),\n",
       " Row(DESCRIPTION='Tolerance as defined by either of the following: a) Need for markedly increased amounts of opioids to achieve intoxication or desired effect b) Markedly diminished effect with continued use of the same amount of opioid'),\n",
       " Row(DESCRIPTION='Sport-recreation score [KOOS]'),\n",
       " Row(DESCRIPTION='Hemoglobin.gastrointestinal [Presence] in Stool by Immunologic method'),\n",
       " Row(DESCRIPTION='What number best describes how  during the past week  pain has interfered with your general activity?'),\n",
       " Row(DESCRIPTION='White Blood Cell (Elevated)'),\n",
       " Row(DESCRIPTION='Functional capacity NYHA'),\n",
       " Row(DESCRIPTION='Color of Urine'),\n",
       " Row(DESCRIPTION='Hemoglobin [Presence] in Urine by Test strip'),\n",
       " Row(DESCRIPTION='Withdrawal * as manifested by either of the following: a) Characteristic opioid withdrawal syndrome b) Same (or a closely related) substance is taken to relieve or avoid withdrawal symptoms'),\n",
       " Row(DESCRIPTION='Bilirubin.total [Mass/volume] in Serum or Plasma'),\n",
       " Row(DESCRIPTION='MCV'),\n",
       " Row(DESCRIPTION='Craving or a strong desire to use opioids'),\n",
       " Row(DESCRIPTION='Progesterone receptor Ag [Presence] in Breast cancer specimen by Immune stain'),\n",
       " Row(DESCRIPTION='Pain score [KOOS]'),\n",
       " Row(DESCRIPTION='Lymphocytes [#/volume] in Blood by Automated count'),\n",
       " Row(DESCRIPTION='Physical findings of Abdomen by Palpation'),\n",
       " Row(DESCRIPTION='Oxygen Saturation'),\n",
       " Row(DESCRIPTION='Cow milk IgE Ab in Serum'),\n",
       " Row(DESCRIPTION='Hemoglobin [Mass/volume] in Blood'),\n",
       " Row(DESCRIPTION='Oxygen [Partial pressure] in Arterial blood'),\n",
       " Row(DESCRIPTION='Influenza virus B Ag [Presence] in Nasopharynx by Rapid immunoassay'),\n",
       " Row(DESCRIPTION='Erythrocyte distribution width [Ratio] by Automated count'),\n",
       " Row(DESCRIPTION='Ferritin [Mass/volume] in Serum or Plasma'),\n",
       " Row(DESCRIPTION='Appearance of Urine'),\n",
       " Row(DESCRIPTION='Odor of Urine'),\n",
       " Row(DESCRIPTION='Interleukin 6 [Mass/volume] in Serum or Plasma'),\n",
       " Row(DESCRIPTION='HER2 [Presence] in Breast cancer specimen by FISH'),\n",
       " Row(DESCRIPTION='pH of Arterial blood'),\n",
       " Row(DESCRIPTION='Creatinine'),\n",
       " Row(DESCRIPTION='Hematocrit [Volume Fraction] of Blood by Automated count'),\n",
       " Row(DESCRIPTION='Influenza virus A Ag [Presence] in Nasopharynx by Rapid immunoassay'),\n",
       " Row(DESCRIPTION='Specific gravity of Urine by Test strip'),\n",
       " Row(DESCRIPTION='Codfish IgE Ab in Serum'),\n",
       " Row(DESCRIPTION='Protein'),\n",
       " Row(DESCRIPTION='Bilirubin.total [Mass/volume] in Urine by Test strip'),\n",
       " Row(DESCRIPTION='Urea Nitrogen'),\n",
       " Row(DESCRIPTION='Chloride'),\n",
       " Row(DESCRIPTION='Objective assessment of cardiovascular disease NYHA'),\n",
       " Row(DESCRIPTION='Pain severity - 0-10 verbal numeric rating [Score] - Reported'),\n",
       " Row(DESCRIPTION='What number best describes how  during the past week  pain has interfered with your enjoyment of life?'),\n",
       " Row(DESCRIPTION='Oxygen saturation in Arterial blood'),\n",
       " Row(DESCRIPTION='Human metapneumovirus RNA [Presence] in Respiratory specimen by NAA with probe detection'),\n",
       " Row(DESCRIPTION='Procalcitonin [Mass/volume] in Serum or Plasma'),\n",
       " Row(DESCRIPTION='Total score [MMSE]'),\n",
       " Row(DESCRIPTION='Cladosporium herbarum IgE Ab in Serum'),\n",
       " Row(DESCRIPTION='Primary tumor.clinical [Class] Cancer'),\n",
       " Row(DESCRIPTION='Lymph nodes with micrometastases [#] in Cancer specimen by Light microscopy'),\n",
       " Row(DESCRIPTION='Glucose'),\n",
       " Row(DESCRIPTION='Body temperature'),\n",
       " Row(DESCRIPTION='Abuse Status [OMAHA]'),\n",
       " Row(DESCRIPTION='Percentage area affected by eczema Upper extremitiy - bilateral'),\n",
       " Row(DESCRIPTION='Lymph nodes with macrometastases [#] in Cancer specimen by Light microscopy'),\n",
       " Row(DESCRIPTION='Creatine kinase [Enzymatic activity/volume] in Serum or Plasma'),\n",
       " Row(DESCRIPTION='Treatment status Cancer'),\n",
       " Row(DESCRIPTION='Lactate dehydrogenase [Enzymatic activity/volume] in Serum or Plasma by Lactate to pyruvate reaction'),\n",
       " Row(DESCRIPTION='Recurrent opioid use resulting in a failure to fulfill major role obligations at work  school  or home'),\n",
       " Row(DESCRIPTION='Common Ragweed IgE Ab in Serum'),\n",
       " Row(DESCRIPTION='Activities of daily living score [HOOS]'),\n",
       " Row(DESCRIPTION='Capillary refill [Time] of Nail bed'),\n",
       " Row(DESCRIPTION='Potassium'),\n",
       " Row(DESCRIPTION='Clarity of Urine'),\n",
       " Row(DESCRIPTION='Parainfluenza virus 1 RNA [Presence] in Respiratory specimen by NAA with probe detection'),\n",
       " Row(DESCRIPTION='Basophils [#/volume] in Blood by Automated count'),\n",
       " Row(DESCRIPTION='Total Cholesterol'),\n",
       " Row(DESCRIPTION='Prostate specific Ag [Mass/volume] in Serum or Plasma'),\n",
       " Row(DESCRIPTION='Magnesium [Mass/volume] in Serum or Plasma'),\n",
       " Row(DESCRIPTION='C reactive protein [Mass/volume] in Serum or Plasma'),\n",
       " Row(DESCRIPTION='Stage group.clinical Cancer'),\n",
       " Row(DESCRIPTION='Microalbumin Creatinine Ratio'),\n",
       " Row(DESCRIPTION='Protein [Mass/volume] in Serum or Plasma'),\n",
       " Row(DESCRIPTION='Glucose [Presence] in Urine by Test strip'),\n",
       " Row(DESCRIPTION='Recurrent opioid use in situations in which it is physically hazardous'),\n",
       " Row(DESCRIPTION='Quality of life score [HOOS]'),\n",
       " Row(DESCRIPTION='Opioids are often taken in larger amounts or over a longer period than was intended'),\n",
       " Row(DESCRIPTION='Thyrotropin [Units/volume] in Serum or Plasma'),\n",
       " Row(DESCRIPTION='Alanine aminotransferase [Enzymatic activity/volume] in Serum or Plasma'),\n",
       " Row(DESCRIPTION='Oxygen/Inspired gas setting [Volume Fraction] Ventilator'),\n",
       " Row(DESCRIPTION='White oak IgE Ab in Serum'),\n",
       " Row(DESCRIPTION='Basophils/100 leukocytes in Blood by Automated count'),\n",
       " Row(DESCRIPTION='Glucose [Mass/volume] in Urine by Test strip'),\n",
       " Row(DESCRIPTION='Peanut IgE Ab in Serum'),\n",
       " Row(DESCRIPTION='Percentage area affected by eczema Lower extremitiy - bilateral'),\n",
       " Row(DESCRIPTION='Housing status'),\n",
       " Row(DESCRIPTION='Platelet distribution width [Entitic volume] in Blood by Automated count'),\n",
       " Row(DESCRIPTION='Rhinovirus RNA [Presence] in Respiratory specimen by NAA with probe detection'),\n",
       " Row(DESCRIPTION='Body mass index (BMI) [Percentile] Per age and gender'),\n",
       " Row(DESCRIPTION='High Density Lipoprotein Cholesterol'),\n",
       " Row(DESCRIPTION='VR-12 Social functioning (SF) score - oblique method'),\n",
       " Row(DESCRIPTION='Mental health Telehealth Note'),\n",
       " Row(DESCRIPTION='VR-12 Physical functioning (PF) score - oblique method'),\n",
       " Row(DESCRIPTION='VR-12 Vitality (VT) score - oblique method'),\n",
       " Row(DESCRIPTION='Mental health Outpatient Note'),\n",
       " Row(DESCRIPTION='PROMIS-10 Global Physical Health (GPH) score'),\n",
       " Row(DESCRIPTION='VR-12 Mental health (MH) score - oblique method'),\n",
       " Row(DESCRIPTION='VR-12 Role physical (RP) score - oblique method'),\n",
       " Row(DESCRIPTION='VR-12 General health (GH) score - oblique method'),\n",
       " Row(DESCRIPTION='VR-12 Bodily pain (BP) score - oblique method'),\n",
       " Row(DESCRIPTION='PROMIS-10 Global Mental Health (GMH) score'),\n",
       " Row(DESCRIPTION='VR-12 Role emotion (RE) score - oblique method'),\n",
       " Row(DESCRIPTION='PROMIS-29 Depression score'),\n",
       " Row(DESCRIPTION='PROMIS-29 Sleep disturbance score'),\n",
       " Row(DESCRIPTION='PROMIS-29 Physical function score'),\n",
       " Row(DESCRIPTION='PROMIS-29 Fatigue score'),\n",
       " Row(DESCRIPTION='PROMIS-29 Anxiety score'),\n",
       " Row(DESCRIPTION='PROMIS-29 Pain interference score'),\n",
       " Row(DESCRIPTION='PROMIS-29 Satisfaction with participation in social roles score'),\n",
       " Row(DESCRIPTION='Suicide prevention note'),\n",
       " Row(DESCRIPTION='VR-36 Role emotion (RE) score - oblique method'),\n",
       " Row(DESCRIPTION='VR-36 Mental health (MH) score - oblique method'),\n",
       " Row(DESCRIPTION='VR-36 Vitality (VT) score - oblique method'),\n",
       " Row(DESCRIPTION='VR-36 Bodily pain (BP) score - oblique method'),\n",
       " Row(DESCRIPTION='VR-36 General health (GH) score - oblique method'),\n",
       " Row(DESCRIPTION='VR-36 Role physical (RP) score - oblique method'),\n",
       " Row(DESCRIPTION='VR-36 Social functioning (SF) score - oblique method'),\n",
       " Row(DESCRIPTION='VR-36 Physical functioning (PF) score - oblique method')]"
      ]
     },
     "execution_count": 12,
     "metadata": {},
     "output_type": "execute_result"
    }
   ],
   "source": [
    "#print list of all values in 'DESCRIPTION' column to identify columns of interest\n",
    "obs_values.select('DESCRIPTION').distinct().collect()"
   ]
  },
  {
   "cell_type": "code",
   "execution_count": 13,
   "metadata": {},
   "outputs": [
    {
     "name": "stderr",
     "output_type": "stream",
     "text": [
      "                                                                                \r"
     ]
    }
   ],
   "source": [
    "#pivot table\n",
    "obs_values_pivot = obs_values.groupBy('PATIENT').pivot('DESCRIPTION').sum('avg(VALUE)')\n",
    "\n",
    "#select columns of interest\n",
    "available_cols = [\n",
    "'PATIENT',\n",
    "'Chloride',\n",
    "'Creatinine',\n",
    "'Glucose',\n",
    "'Triglycerides',\n",
    "'Urea Nitrogen',\n",
    "'Total Cholesterol',\n",
    "'Alanine aminotransferase [Enzymatic activity/volume] in Serum or Plasma',\n",
    "'Albumin [Mass/volume] in Serum or Plasma',\n",
    "'Alkaline phosphatase [Enzymatic activity/volume] in Serum or Plasma',\n",
    "'Aspartate aminotransferase [Enzymatic activity/volume] in Serum or Plasma',\n",
    "'Basophils [#/volume] in Blood by Automated count',\n",
    "'Basophils/100 leukocytes in Blood by Automated count',\n",
    "'Bicarbonate [Moles/volume] in Arterial blood',\n",
    "'Body Height',\n",
    "'Body Mass Index',\n",
    "'Body Weight',\n",
    "'Body temperature',\n",
    "'C reactive protein [Mass/volume] in Serum or Plasma',\n",
    "'Calcium',\n",
    "'Calcium [Mass/volume] in Serum or Plasma',\n",
    "'Carbon Dioxide',\n",
    "'Carbon dioxide  total [Moles/volume] in Serum or Plasma',\n",
    "'Carbon dioxide [Partial pressure] in Arterial blood',\n",
    "'Chloride [Moles/volume] in Serum or Plasma',\n",
    "'Creatine kinase [Enzymatic activity/volume] in Serum or Plasma',\n",
    "'Creatinine [Mass/volume] in Serum or Plasma',\n",
    "'DALY',\n",
    "'DXA [T-score] Bone density',\n",
    "'Diastolic Blood Pressure',\n",
    "'Eosinophils [#/volume] in Blood by Automated count',\n",
    "'Eosinophils/100 leukocytes in Blood by Automated count',\n",
    "'Erythrocyte distribution width [Entitic volume] by Automated count',\n",
    "'Erythrocyte distribution width [Ratio] by Automated count',\n",
    "'Erythrocytes [#/volume] in Blood by Automated count',\n",
    "'Estimated Glomerular Filtration Rate',\n",
    "'Ferritin [Mass/volume] in Serum or Plasma',\n",
    "'Fibrin D-dimer FEU [Mass/volume] in Platelet poor plasma',\n",
    "'Globulin [Mass/volume] in Serum by calculation',\n",
    "'Glucose [Mass/volume] in Serum or Plasma',\n",
    "'Heart rate',\n",
    "'Hematocrit [Volume Fraction] of Blood by Automated count',\n",
    "'Hemoglobin [Mass/volume] in Blood',\n",
    "'High Density Lipoprotein Cholesterol',\n",
    "'INR in Platelet poor plasma by Coagulation assay',\n",
    "'Iron [Mass/volume] in Serum or Plasma',\n",
    "'Iron binding capacity [Mass/volume] in Serum or Plasma',\n",
    "'Iron saturation [Mass Fraction] in Serum or Plasma',\n",
    "'Lactate dehydrogenase [Enzymatic activity/volume] in Serum or Plasma by Lactate to pyruvate reaction',\n",
    "'Left ventricular Ejection fraction',\n",
    "'Leukocytes [#/volume] in Blood by Automated count',\n",
    "'Low Density Lipoprotein Cholesterol',\n",
    "'Lymphocytes [#/volume] in Blood by Automated count',\n",
    "'Lymphocytes/100 leukocytes in Blood by Automated count',\n",
    "'MCH [Entitic mass] by Automated count',\n",
    "'MCHC [Mass/volume] by Automated count',\n",
    "'MCV [Entitic volume] by Automated count',\n",
    "'Magnesium [Mass/volume] in Serum or Plasma',\n",
    "'Microalbumin Creatinine Ratio',\n",
    "'Monocytes [#/volume] in Blood by Automated count',\n",
    "'Monocytes/100 leukocytes in Blood by Automated count',\n",
    "'NT-proBNP',\n",
    "'Neutrophils [#/volume] in Blood by Automated count',\n",
    "'Neutrophils/100 leukocytes in Blood by Automated count',\n",
    "'Oxygen [Partial pressure] in Arterial blood',\n",
    "'Oxygen saturation in Arterial blood',\n",
    "'Platelet distribution width [Entitic volume] in Blood by Automated count',\n",
    "'Platelet mean volume [Entitic volume] in Blood by Automated count',\n",
    "'Platelets [#/volume] in Blood by Automated count',\n",
    "'Potassium',\n",
    "'Potassium [Moles/volume] in Serum or Plasma',\n",
    "'Procalcitonin [Mass/volume] in Serum or Plasma',\n",
    "'Protein [Mass/volume] in Serum or Plasma',\n",
    "'Prothrombin time (PT)',\n",
    "'QALY',\n",
    "'QOLS',\n",
    "'RBC Auto (Bld) [#/Vol]',\n",
    "'RDW - Erythrocyte distribution width Auto (RBC) [Entitic vol]',\n",
    "'Respiratory rate',\n",
    "'Sodium',\n",
    "'Sodium [Moles/volume] in Serum or Plasma',\n",
    "'Systolic Blood Pressure',\n",
    "'Total score [MMSE]',\n",
    "'Urea nitrogen [Mass/volume] in Serum or Plasma',\n",
    "'WBC Auto (Bld) [#/Vol]',\n",
    "'pH of Arterial blood'\n",
    "]\n",
    "\n",
    "#filter by selected columns\n",
    "obs_values_pivot = obs_values_pivot.select(*available_cols)"
   ]
  },
  {
   "cell_type": "code",
   "execution_count": 14,
   "metadata": {},
   "outputs": [
    {
     "name": "stderr",
     "output_type": "stream",
     "text": [
      "                                                                                \r"
     ]
    }
   ],
   "source": [
    "#fill NA values with mean value\n",
    "import pyspark.sql.functions as F\n",
    "\n",
    "obs_values_pivot_cols = [\n",
    "'Chloride',\n",
    "'Creatinine',\n",
    "'Glucose',\n",
    "'Triglycerides',\n",
    "'Urea Nitrogen',\n",
    "'Total Cholesterol',\n",
    "'Alanine aminotransferase [Enzymatic activity/volume] in Serum or Plasma',\n",
    "'Albumin [Mass/volume] in Serum or Plasma',\n",
    "'Alkaline phosphatase [Enzymatic activity/volume] in Serum or Plasma',\n",
    "'Aspartate aminotransferase [Enzymatic activity/volume] in Serum or Plasma',\n",
    "'Basophils [#/volume] in Blood by Automated count',\n",
    "'Basophils/100 leukocytes in Blood by Automated count',\n",
    "'Bicarbonate [Moles/volume] in Arterial blood',\n",
    "'Body Height',\n",
    "'Body Mass Index',\n",
    "'Body Weight',\n",
    "'Body temperature',\n",
    "'C reactive protein [Mass/volume] in Serum or Plasma',\n",
    "'Calcium',\n",
    "'Calcium [Mass/volume] in Serum or Plasma',\n",
    "'Carbon Dioxide',\n",
    "'Carbon dioxide  total [Moles/volume] in Serum or Plasma',\n",
    "'Carbon dioxide [Partial pressure] in Arterial blood',\n",
    "'Chloride [Moles/volume] in Serum or Plasma',\n",
    "'Creatine kinase [Enzymatic activity/volume] in Serum or Plasma',\n",
    "'Creatinine [Mass/volume] in Serum or Plasma',\n",
    "'DALY',\n",
    "'DXA [T-score] Bone density',\n",
    "'Diastolic Blood Pressure',\n",
    "'Eosinophils [#/volume] in Blood by Automated count',\n",
    "'Eosinophils/100 leukocytes in Blood by Automated count',\n",
    "'Erythrocyte distribution width [Entitic volume] by Automated count',\n",
    "'Erythrocyte distribution width [Ratio] by Automated count',\n",
    "'Erythrocytes [#/volume] in Blood by Automated count',\n",
    "'Estimated Glomerular Filtration Rate',\n",
    "'Ferritin [Mass/volume] in Serum or Plasma',\n",
    "'Fibrin D-dimer FEU [Mass/volume] in Platelet poor plasma',\n",
    "'Globulin [Mass/volume] in Serum by calculation',\n",
    "'Glucose [Mass/volume] in Serum or Plasma',\n",
    "'Heart rate',\n",
    "'Hematocrit [Volume Fraction] of Blood by Automated count',\n",
    "'Hemoglobin [Mass/volume] in Blood',\n",
    "'High Density Lipoprotein Cholesterol',\n",
    "'INR in Platelet poor plasma by Coagulation assay',\n",
    "'Iron [Mass/volume] in Serum or Plasma',\n",
    "'Iron binding capacity [Mass/volume] in Serum or Plasma',\n",
    "'Iron saturation [Mass Fraction] in Serum or Plasma',\n",
    "'Lactate dehydrogenase [Enzymatic activity/volume] in Serum or Plasma by Lactate to pyruvate reaction',\n",
    "'Left ventricular Ejection fraction',\n",
    "'Leukocytes [#/volume] in Blood by Automated count',\n",
    "'Low Density Lipoprotein Cholesterol',\n",
    "'Lymphocytes [#/volume] in Blood by Automated count',\n",
    "'Lymphocytes/100 leukocytes in Blood by Automated count',\n",
    "'MCH [Entitic mass] by Automated count',\n",
    "'MCHC [Mass/volume] by Automated count',\n",
    "'MCV [Entitic volume] by Automated count',\n",
    "'Magnesium [Mass/volume] in Serum or Plasma',\n",
    "'Microalbumin Creatinine Ratio',\n",
    "'Monocytes [#/volume] in Blood by Automated count',\n",
    "'Monocytes/100 leukocytes in Blood by Automated count',\n",
    "'NT-proBNP',\n",
    "'Neutrophils [#/volume] in Blood by Automated count',\n",
    "'Neutrophils/100 leukocytes in Blood by Automated count',\n",
    "'Oxygen [Partial pressure] in Arterial blood',\n",
    "'Oxygen saturation in Arterial blood',\n",
    "'Platelet distribution width [Entitic volume] in Blood by Automated count',\n",
    "'Platelet mean volume [Entitic volume] in Blood by Automated count',\n",
    "'Platelets [#/volume] in Blood by Automated count',\n",
    "'Potassium',\n",
    "'Potassium [Moles/volume] in Serum or Plasma',\n",
    "'Procalcitonin [Mass/volume] in Serum or Plasma',\n",
    "'Protein [Mass/volume] in Serum or Plasma',\n",
    "'Prothrombin time (PT)',\n",
    "'QALY',\n",
    "'QOLS',\n",
    "'RBC Auto (Bld) [#/Vol]',\n",
    "'RDW - Erythrocyte distribution width Auto (RBC) [Entitic vol]',\n",
    "'Respiratory rate',\n",
    "'Sodium',\n",
    "'Sodium [Moles/volume] in Serum or Plasma',\n",
    "'Systolic Blood Pressure',\n",
    "'Total score [MMSE]',\n",
    "'Urea nitrogen [Mass/volume] in Serum or Plasma',\n",
    "'WBC Auto (Bld) [#/Vol]',\n",
    "'pH of Arterial blood'\n",
    "]\n",
    "\n",
    "#calculate mean for each column and save in dictionary\n",
    "mean_values = obs_values_pivot.select([F.mean(col).alias(col) for col in obs_values_pivot_cols]).collect()[0].asDict()\n",
    "\n",
    "#fill missing values with the mean for each column\n",
    "obs_values_pivot = obs_values_pivot.fillna(mean_values)"
   ]
  },
  {
   "cell_type": "markdown",
   "metadata": {},
   "source": [
    "# Create Final Dataset for Modeling"
   ]
  },
  {
   "cell_type": "code",
   "execution_count": 15,
   "metadata": {},
   "outputs": [],
   "source": [
    "#calculate new column for total healthcare cost ('TOTAL_HEALTHCARE_COST')\n",
    "from pyspark.sql.functions import col\n",
    "\n",
    "patient_data = patient_data.withColumn('TOTAL_HEALTHCARE_COST', col('HEALTHCARE_EXPENSES') + col('HEALTHCARE_COVERAGE'))"
   ]
  },
  {
   "cell_type": "code",
   "execution_count": 16,
   "metadata": {},
   "outputs": [],
   "source": [
    "#strip spaces from all patient ID\n",
    "from pyspark.sql import functions as F\n",
    "\n",
    "patient_data = patient_data.withColumn('Id', F.trim(patient_data['Id']))\n",
    "encounter_count_pivot = encounter_count_pivot.withColumn('PATIENT', F.trim(encounter_count_pivot['PATIENT']))\n",
    "conditions_count = conditions_count.withColumn('PATIENT', F.trim(conditions_count['PATIENT']))\n",
    "devices_count = devices_count.withColumn('PATIENT', F.trim(devices_count['PATIENT']))\n",
    "imaging_count = imaging_count.withColumn('PATIENT', F.trim(imaging_count['PATIENT']))\n",
    "vax_count = vax_count.withColumn('PATIENT', F.trim(vax_count['PATIENT']))\n",
    "med_count = med_count.withColumn('PATIENT', F.trim(med_count['PATIENT']))\n",
    "obs_values_pivot = obs_values_pivot.withColumn('PATIENT', F.trim(obs_values_pivot['PATIENT']))\n"
   ]
  },
  {
   "cell_type": "code",
   "execution_count": 17,
   "metadata": {},
   "outputs": [],
   "source": [
    "#join counts from conditions, devices, encounters, imaging, immunizations, medications to patient data; filter by rows of interest\n",
    "final_data = patient_data.join(conditions_count, patient_data.Id == conditions_count.PATIENT, 'full')\n",
    "final_data = final_data.join(devices_count, final_data.Id == devices_count.PATIENT, 'full')\n",
    "final_data = final_data.join(encounter_count_pivot, final_data.Id == encounter_count_pivot.PATIENT, 'full')\n",
    "final_data = final_data.join(imaging_count, final_data.Id == imaging_count.PATIENT, 'full')\n",
    "final_data = final_data.join(vax_count, final_data.Id == vax_count.PATIENT, 'full')\n",
    "final_data = final_data.join(med_count, final_data.Id == med_count.PATIENT, 'full').select('Id',\n",
    "            'RACE',\n",
    "            'ETHNICITY',\n",
    "            'GENDER',\n",
    "            'HEALTHCARE_EXPENSES',\n",
    "            'HEALTHCARE_COVERAGE',\n",
    "            'TOTAL_HEALTHCARE_COST',\n",
    "            'conditions_count',\n",
    "            'devices_count',\n",
    "            'ambulatory_visits',\n",
    "            'emergency_visits',\n",
    "            'inpatient_visits',\n",
    "            'outpatient_visits',\n",
    "            'urgentcare_visits',\n",
    "            'wellness_visits',\n",
    "            'total_visits',\n",
    "            'imaging_count',\n",
    "            'immunization_count',\n",
    "            'med_count'\n",
    "            )\n",
    "\n",
    "#fill all missing values in the count columns with 0 just incase there are null encounters from patients not in the original encounter dataset\n",
    "final_data = final_data.fillna({\n",
    "    'devices_count':0,\n",
    "    'ambulatory_visits':0,\n",
    "    'emergency_visits':0,\n",
    "    'inpatient_visits':0,\n",
    "    'outpatient_visits':0,\n",
    "    'urgentcare_visits':0,\n",
    "    'wellness_visits':0,\n",
    "    'total_visits':0,\n",
    "    'imaging_count':0,\n",
    "    'immunization_count':0,\n",
    "    'med_count':0,\n",
    "    'conditions_count':0\n",
    "    })"
   ]
  },
  {
   "cell_type": "code",
   "execution_count": 18,
   "metadata": {},
   "outputs": [
    {
     "name": "stderr",
     "output_type": "stream",
     "text": [
      "                                                                                \r"
     ]
    },
    {
     "data": {
      "text/plain": [
       "0"
      ]
     },
     "execution_count": 18,
     "metadata": {},
     "output_type": "execute_result"
    }
   ],
   "source": [
    "#check that join worked correctly and there are no null Id's\n",
    "final_data.filter(final_data.Id.isNull()).count()"
   ]
  },
  {
   "cell_type": "code",
   "execution_count": 19,
   "metadata": {},
   "outputs": [],
   "source": [
    "#join observation data to final data set\n",
    "final_data = final_data.join(obs_values_pivot, final_data.Id == obs_values_pivot.PATIENT, 'full')"
   ]
  },
  {
   "cell_type": "code",
   "execution_count": 20,
   "metadata": {},
   "outputs": [
    {
     "name": "stderr",
     "output_type": "stream",
     "text": [
      "                                                                                \r"
     ]
    },
    {
     "data": {
      "image/png": "[encoded data removed]",
      "text/plain": [
       "<Figure size 640x480 with 1 Axes>"
      ]
     },
     "metadata": {},
     "output_type": "display_data"
    }
   ],
   "source": [
    "#plot histogram of total healthcare cost to determine distribution\n",
    "import seaborn as sns\n",
    "import matplotlib.pyplot as plt\n",
    "%matplotlib inline\n",
    "patient_data_pdf = patient_data.toPandas()\n",
    "\n",
    "sns.histplot(data = patient_data_pdf, x = 'TOTAL_HEALTHCARE_COST')\n",
    "plt.show()"
   ]
  },
  {
   "cell_type": "code",
   "execution_count": 21,
   "metadata": {},
   "outputs": [
    {
     "name": "stdout",
     "output_type": "stream",
     "text": [
      "1464225.945\n"
     ]
    }
   ],
   "source": [
    "#due to bimodal distribution and slight skew, we can use median as a cutoff value for high/low cost categorization\n",
    "#calculate median\n",
    "total_cost_median = patient_data_pdf['TOTAL_HEALTHCARE_COST'].median()\n",
    "\n",
    "print(total_cost_median)"
   ]
  },
  {
   "cell_type": "code",
   "execution_count": 22,
   "metadata": {},
   "outputs": [],
   "source": [
    "#create high/low cost categorization column in patient_data set\n",
    "from pyspark.sql.functions import when\n",
    "final_data = final_data.withColumn('High_Cost', when(col('TOTAL_HEALTHCARE_COST')>total_cost_median, 1).otherwise(0))"
   ]
  },
  {
   "cell_type": "markdown",
   "metadata": {},
   "source": [
    "### Index / OHE string columns"
   ]
  },
  {
   "cell_type": "code",
   "execution_count": 23,
   "metadata": {},
   "outputs": [
    {
     "name": "stderr",
     "output_type": "stream",
     "text": [
      "                                                                                \r"
     ]
    }
   ],
   "source": [
    "from pyspark.ml.feature import StringIndexer, OneHotEncoder\n",
    "\n",
    "#index gender, race, ethnicity columns\n",
    "indexer_race = StringIndexer(inputCol= 'RACE', outputCol= 'RACE_INDEX')\n",
    "final_data_indexed = indexer_race.fit(final_data).transform(final_data)\n",
    "\n",
    "indexer_ethnicity = StringIndexer(inputCol= 'ETHNICITY', outputCol='ETHNICITY_INDEX')\n",
    "final_data_indexed = indexer_ethnicity.fit(final_data_indexed).transform(final_data_indexed)\n",
    "\n",
    "indexer_gender = StringIndexer(inputCol= 'GENDER', outputCol= 'GENDER_INDEX')\n",
    "final_data_indexed = indexer_gender.fit(final_data_indexed).transform(final_data_indexed)\n",
    "\n",
    "#apply OHE to indexed columns\n",
    "encoder_race = OneHotEncoder(inputCol=\"RACE_INDEX\", outputCol=\"RACE_OHE\")\n",
    "final_data_encoded = encoder_race.fit(final_data_indexed).transform(final_data_indexed)\n",
    "\n",
    "encoder_ethnicity = OneHotEncoder(inputCol=\"ETHNICITY_INDEX\", outputCol=\"ETHNICITY_OHE\")\n",
    "final_data_encoded = encoder_ethnicity.fit(final_data_encoded).transform(final_data_encoded)\n",
    "\n",
    "encoder_gender = OneHotEncoder(inputCol=\"GENDER_INDEX\", outputCol=\"GENDER_OHE\")\n",
    "final_data_encoded = encoder_gender.fit(final_data_encoded).transform(final_data_encoded)\n"
   ]
  },
  {
   "cell_type": "code",
   "execution_count": 24,
   "metadata": {},
   "outputs": [],
   "source": [
    "#remove unnecessary columns\n",
    "final_data_encoded = final_data_encoded.drop(*\n",
    "                                             ['Id',\n",
    "                                              'RACE',\n",
    "                                              'ETHNICITY',\n",
    "                                              'GENDER',\n",
    "                                              'PATIENT', \n",
    "                                              'RACE_INDEX',\n",
    "                                              'GENDER_INDEX', \n",
    "                                              'ETHNICITY_INDEX',\n",
    "                                              'HEALTHCARE_EXPENSES',\n",
    "                                              'HEALTHCARE_COVERAGE',\n",
    "                                              'TOTAL_HEALTHCARE_COST'\n",
    "                                              ])"
   ]
  },
  {
   "cell_type": "markdown",
   "metadata": {},
   "source": [
    "### Condense data into one column with Vector Assembler"
   ]
  },
  {
   "cell_type": "code",
   "execution_count": 25,
   "metadata": {},
   "outputs": [],
   "source": [
    "#use vector assembler to combine columns into one\n",
    "from pyspark.ml.feature import VectorAssembler\n",
    "\n",
    "feature_cols = [col for col in final_data_encoded.columns if col not in ['High_Cost']]\n",
    "\n",
    "#apply vector assembler\n",
    "assmebler = VectorAssembler(inputCols=feature_cols, outputCol='features')\n",
    "final_data_assembled = assmebler.transform(final_data_encoded)\n"
   ]
  },
  {
   "cell_type": "markdown",
   "metadata": {},
   "source": [
    "# Build ML Models"
   ]
  },
  {
   "cell_type": "markdown",
   "metadata": {},
   "source": [
    "### Random Forest Model"
   ]
  },
  {
   "cell_type": "code",
   "execution_count": 26,
   "metadata": {},
   "outputs": [],
   "source": [
    "#split data into training and testing sets\n",
    "\n",
    "train_set, test_set = final_data_assembled.randomSplit([0.8,0.2], seed = 42)"
   ]
  },
  {
   "cell_type": "code",
   "execution_count": 27,
   "metadata": {},
   "outputs": [
    {
     "name": "stderr",
     "output_type": "stream",
     "text": [
      "[Stage 1677:>                                                       (0 + 1) / 1]\r"
     ]
    },
    {
     "name": "stdout",
     "output_type": "stream",
     "text": [
      "+--------------------+---------+----------+\n",
      "|            features|High_Cost|prediction|\n",
      "+--------------------+---------+----------+\n",
      "|[1.0,0.0,0.0,1.0,...|        0|       0.0|\n",
      "|[2.0,0.0,0.0,1.0,...|        0|       0.0|\n",
      "|[2.0,0.0,0.0,1.0,...|        0|       0.0|\n",
      "|[2.0,0.0,1.0,0.0,...|        0|       0.0|\n",
      "|[2.0,0.0,1.0,1.0,...|        0|       0.0|\n",
      "|[2.0,0.0,2.0,0.0,...|        1|       1.0|\n",
      "|[2.0,0.0,4.0,0.0,...|        0|       1.0|\n",
      "|[3.0,0.0,0.0,1.0,...|        0|       0.0|\n",
      "|[3.0,0.0,1.0,0.0,...|        0|       0.0|\n",
      "|[3.0,0.0,1.0,0.0,...|        0|       0.0|\n",
      "+--------------------+---------+----------+\n",
      "only showing top 10 rows\n",
      "\n"
     ]
    },
    {
     "name": "stderr",
     "output_type": "stream",
     "text": [
      "                                                                                \r"
     ]
    }
   ],
   "source": [
    "#Build Random Forest Model\n",
    "from pyspark.ml.classification import RandomForestClassifier\n",
    "\n",
    "RF = RandomForestClassifier(labelCol='High_Cost', featuresCol='features', numTrees=300)\n",
    "\n",
    "#train model\n",
    "RF_model = RF.fit(train_set)\n",
    "\n",
    "#test model\n",
    "RF_test = RF_model.transform(test_set)\n",
    "\n",
    "RF_test.select('features', 'High_Cost','prediction').show(10)\n"
   ]
  },
  {
   "cell_type": "code",
   "execution_count": 28,
   "metadata": {},
   "outputs": [
    {
     "name": "stderr",
     "output_type": "stream",
     "text": [
      "                                                                                \r"
     ]
    },
    {
     "name": "stdout",
     "output_type": "stream",
     "text": [
      "RF_AUROC = 0.7221566267257576\n"
     ]
    }
   ],
   "source": [
    "#evaluate model\n",
    "import pyspark.ml.evaluation as ev\n",
    "\n",
    "RF_evaluator  = ev.BinaryClassificationEvaluator(\n",
    "    rawPredictionCol='probability',\n",
    "    labelCol='High_Cost'\n",
    ")\n",
    "\n",
    "RF_AUROC = RF_evaluator.evaluate(RF_test, {RF_evaluator.metricName: 'areaUnderROC'})\n",
    "\n",
    "print('RF_AUROC =',RF_AUROC)"
   ]
  },
  {
   "cell_type": "markdown",
   "metadata": {},
   "source": [
    "### Gradient-Boosted Trees Model"
   ]
  },
  {
   "cell_type": "code",
   "execution_count": 29,
   "metadata": {},
   "outputs": [
    {
     "name": "stderr",
     "output_type": "stream",
     "text": [
      "[Stage 5321:>                                                       (0 + 1) / 1]\r"
     ]
    },
    {
     "name": "stdout",
     "output_type": "stream",
     "text": [
      "+--------------------+---------+----------+\n",
      "|            features|High_Cost|prediction|\n",
      "+--------------------+---------+----------+\n",
      "|[1.0,0.0,0.0,1.0,...|        0|       0.0|\n",
      "|[2.0,0.0,0.0,1.0,...|        0|       0.0|\n",
      "|[2.0,0.0,0.0,1.0,...|        0|       0.0|\n",
      "|[2.0,0.0,1.0,0.0,...|        0|       0.0|\n",
      "|[2.0,0.0,1.0,1.0,...|        0|       0.0|\n",
      "|[2.0,0.0,2.0,0.0,...|        1|       1.0|\n",
      "|[2.0,0.0,4.0,0.0,...|        0|       0.0|\n",
      "|[3.0,0.0,0.0,1.0,...|        0|       0.0|\n",
      "|[3.0,0.0,1.0,0.0,...|        0|       0.0|\n",
      "|[3.0,0.0,1.0,0.0,...|        0|       0.0|\n",
      "+--------------------+---------+----------+\n",
      "only showing top 10 rows\n",
      "\n"
     ]
    },
    {
     "name": "stderr",
     "output_type": "stream",
     "text": [
      "                                                                                \r"
     ]
    }
   ],
   "source": [
    "#Build GBT Model\n",
    "from pyspark.ml.classification import GBTClassifier\n",
    "\n",
    "gbt = GBTClassifier(labelCol='High_Cost', featuresCol='features')\n",
    "\n",
    "#train model\n",
    "gbt_model = gbt.fit(train_set)\n",
    "\n",
    "#Test model\n",
    "gbt_test = gbt_model.transform(test_set)\n",
    "\n",
    "gbt_test.select('features', 'High_Cost','prediction').show(10)\n"
   ]
  },
  {
   "cell_type": "code",
   "execution_count": 30,
   "metadata": {},
   "outputs": [
    {
     "name": "stderr",
     "output_type": "stream",
     "text": [
      "                                                                                \r"
     ]
    },
    {
     "name": "stdout",
     "output_type": "stream",
     "text": [
      "GBT_AUROC = 0.7363040250952927\n"
     ]
    }
   ],
   "source": [
    "#evaluate model\n",
    "\n",
    "GBT_evaluator  = ev.BinaryClassificationEvaluator(\n",
    "    rawPredictionCol='probability',\n",
    "    labelCol='High_Cost'\n",
    ")\n",
    "\n",
    "GBT_AUROC = GBT_evaluator.evaluate(gbt_test, {GBT_evaluator.metricName: 'areaUnderROC'})\n",
    "\n",
    "print('GBT_AUROC =',GBT_AUROC)"
   ]
  },
  {
   "cell_type": "markdown",
   "metadata": {},
   "source": [
    "### Logistic Regression Model"
   ]
  },
  {
   "cell_type": "code",
   "execution_count": null,
   "metadata": {},
   "outputs": [],
   "source": []
  },
  {
   "cell_type": "code",
   "execution_count": 31,
   "metadata": {},
   "outputs": [
    {
     "name": "stderr",
     "output_type": "stream",
     "text": [
      "[Stage 9036:>                                                       (0 + 1) / 1]\r"
     ]
    },
    {
     "name": "stdout",
     "output_type": "stream",
     "text": [
      "+--------------------+---------+----------+\n",
      "|            features|High_Cost|prediction|\n",
      "+--------------------+---------+----------+\n",
      "|[1.0,0.0,0.0,1.0,...|        0|       0.0|\n",
      "|[2.0,0.0,0.0,1.0,...|        0|       0.0|\n",
      "|[2.0,0.0,0.0,1.0,...|        0|       0.0|\n",
      "|[2.0,0.0,1.0,0.0,...|        0|       0.0|\n",
      "|[2.0,0.0,1.0,1.0,...|        0|       0.0|\n",
      "|[2.0,0.0,2.0,0.0,...|        1|       1.0|\n",
      "|[2.0,0.0,4.0,0.0,...|        0|       1.0|\n",
      "|[3.0,0.0,0.0,1.0,...|        0|       0.0|\n",
      "|[3.0,0.0,1.0,0.0,...|        0|       0.0|\n",
      "|[3.0,0.0,1.0,0.0,...|        0|       0.0|\n",
      "+--------------------+---------+----------+\n",
      "only showing top 10 rows\n",
      "\n"
     ]
    },
    {
     "name": "stderr",
     "output_type": "stream",
     "text": [
      "                                                                                \r"
     ]
    }
   ],
   "source": [
    "#Build Model\n",
    "from pyspark.ml.classification import LogisticRegression\n",
    "\n",
    "lr = LogisticRegression(labelCol='High_Cost', featuresCol='features')\n",
    "\n",
    "#Train Model\n",
    "lr_model = lr.fit(train_set)\n",
    "\n",
    "#Test Model\n",
    "lr_test = lr_model.transform(test_set)\n",
    "\n",
    "lr_test.select('features', 'High_Cost','prediction').show(10)"
   ]
  },
  {
   "cell_type": "code",
   "execution_count": 32,
   "metadata": {},
   "outputs": [
    {
     "name": "stderr",
     "output_type": "stream",
     "text": [
      "                                                                                \r"
     ]
    },
    {
     "name": "stdout",
     "output_type": "stream",
     "text": [
      "LR_AUROC = 0.7236581678247705\n"
     ]
    }
   ],
   "source": [
    "#evaluate model\n",
    "lr_evaluator  = ev.BinaryClassificationEvaluator(\n",
    "    rawPredictionCol='probability',\n",
    "    labelCol='High_Cost'\n",
    ")\n",
    "\n",
    "LR_AUROC = lr_evaluator.evaluate(lr_test, {lr_evaluator.metricName: 'areaUnderROC'})\n",
    "\n",
    "\n",
    "print('LR_AUROC =',LR_AUROC)"
   ]
  },
  {
   "cell_type": "markdown",
   "metadata": {},
   "source": [
    "### Model AUROC Comparisons"
   ]
  },
  {
   "cell_type": "code",
   "execution_count": 33,
   "metadata": {},
   "outputs": [
    {
     "name": "stdout",
     "output_type": "stream",
     "text": [
      "LR_AUROC = 0.7236581678247705\n",
      "GBT_AUROC = 0.7363040250952927\n",
      "RF_AUROC = 0.7221566267257576\n"
     ]
    }
   ],
   "source": [
    "print('LR_AUROC =',LR_AUROC)\n",
    "print('GBT_AUROC =',GBT_AUROC)\n",
    "print('RF_AUROC =',RF_AUROC)"
   ]
  }
 ],
 "metadata": {
  "kernelspec": {
   "display_name": "bmi6318",
   "language": "python",
   "name": "python3"
  },
  "language_info": {
   "codemirror_mode": {
    "name": "ipython",
    "version": 3
   },
   "file_extension": ".py",
   "mimetype": "text/x-python",
   "name": "python",
   "nbconvert_exporter": "python",
   "pygments_lexer": "ipython3",
   "version": "3.10.13"
  }
 },
 "nbformat": 4,
 "nbformat_minor": 2
}
